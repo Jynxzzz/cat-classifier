{
 "cells": [
  {
   "cell_type": "code",
   "execution_count": 1,
   "id": "6a40564a",
   "metadata": {},
   "outputs": [],
   "source": [
    "import ipywidgets as widgets\n",
    "from ipywidgets import VBox\n",
    "from fastai.vision.all import  PILImage\n",
    "from types import SimpleNamespace\n"
   ]
  },
  {
   "cell_type": "code",
   "execution_count": 2,
   "id": "65cd355c-6bb3-4ec8-b2d8-e29d656c8047",
   "metadata": {},
   "outputs": [
    {
     "name": "stdout",
     "output_type": "stream",
     "text": [
      "jupyter_widgets | error adding extension (enabled: True): The module 'jupyter_widgets' could not be found (No module named 'jupyter_widgets'). Are you sure the extension is installed?\n",
      "    Traceback (most recent call last):\n",
      "      File \"/home/xingnan/anaconda3/envs/voila_jypyter/lib/python3.10/site-packages/jupyter_server/extension/manager.py\", line 323, in add_extension\n",
      "        extpkg = ExtensionPackage(name=extension_name, enabled=enabled)\n",
      "      File \"/home/xingnan/anaconda3/envs/voila_jypyter/lib/python3.10/site-packages/jupyter_server/extension/manager.py\", line 187, in __init__\n",
      "        self._load_metadata()\n",
      "      File \"/home/xingnan/anaconda3/envs/voila_jypyter/lib/python3.10/site-packages/jupyter_server/extension/manager.py\", line 202, in _load_metadata\n",
      "        raise ExtensionModuleNotFound(msg) from None\n",
      "    jupyter_server.extension.utils.ExtensionModuleNotFound: The module 'jupyter_widgets' could not be found (No module named 'jupyter_widgets'). Are you sure the extension is installed?\n",
      "Enabling: voila\n",
      "- Writing config: /home/xingnan/anaconda3/envs/voila_jypyter/etc/jupyter\n",
      "    - Validating voila...\n",
      "      voila  \u001b[32mOK\u001b[0m\n",
      "    - Extension successfully enabled.\n"
     ]
    }
   ],
   "source": [
    "!jupyter server extension enable voila --sys-prefix"
   ]
  },
  {
   "cell_type": "code",
   "execution_count": 3,
   "id": "973361e2-61b6-437c-8ec9-2278fc207a6d",
   "metadata": {},
   "outputs": [
    {
     "name": "stdout",
     "output_type": "stream",
     "text": [
      "jupyter_widgets | error adding extension (enabled: True): The module 'jupyter_widgets' could not be found (No module named 'jupyter_widgets'). Are you sure the extension is installed?\n",
      "    Traceback (most recent call last):\n",
      "      File \"/home/xingnan/anaconda3/envs/voila_jypyter/lib/python3.10/site-packages/jupyter_server/extension/manager.py\", line 323, in add_extension\n",
      "        extpkg = ExtensionPackage(name=extension_name, enabled=enabled)\n",
      "      File \"/home/xingnan/anaconda3/envs/voila_jypyter/lib/python3.10/site-packages/jupyter_server/extension/manager.py\", line 187, in __init__\n",
      "        self._load_metadata()\n",
      "      File \"/home/xingnan/anaconda3/envs/voila_jypyter/lib/python3.10/site-packages/jupyter_server/extension/manager.py\", line 202, in _load_metadata\n",
      "        raise ExtensionModuleNotFound(msg) from None\n",
      "    jupyter_server.extension.utils.ExtensionModuleNotFound: The module 'jupyter_widgets' could not be found (No module named 'jupyter_widgets'). Are you sure the extension is installed?\n",
      "Enabling: jupyter_widgets\n",
      "- Writing config: /home/xingnan/anaconda3/envs/voila_jypyter/etc/jupyter\n",
      "    - Validating jupyter_widgets...\n",
      "      jupyter_widgets  \u001b[32mOK\u001b[0m\n",
      "    - Extension successfully enabled.\n"
     ]
    }
   ],
   "source": [
    "!jupyter server extension enable jupyter_widgets --sys-prefix\n"
   ]
  },
  {
   "cell_type": "code",
   "execution_count": 4,
   "id": "dbb39149-3e6d-4290-b3f3-db26c7d3d312",
   "metadata": {},
   "outputs": [
    {
     "name": "stdout",
     "output_type": "stream",
     "text": [
      "Config dir: /home/xingnan/.jupyter\n",
      "\n",
      "Config dir: /home/xingnan/anaconda3/envs/voila_jypyter/etc/jupyter\n",
      "    jupyter_lsp \u001b[32menabled\u001b[0m\n",
      "    - Validating jupyter_lsp...\n",
      "      jupyter_lsp 2.2.5 \u001b[32mOK\u001b[0m\n",
      "    jupyter_server_terminals \u001b[32menabled\u001b[0m\n",
      "    - Validating jupyter_server_terminals...\n",
      "      jupyter_server_terminals 0.5.3 \u001b[32mOK\u001b[0m\n",
      "    jupyter_widgets \u001b[32menabled\u001b[0m\n",
      "    - Validating jupyter_widgets...\n",
      "      \u001b[31m X\u001b[0m The module 'jupyter_widgets' could not be found (No module named 'jupyter_widgets'). Are you sure the extension is installed?\n",
      "    jupyterlab \u001b[32menabled\u001b[0m\n",
      "    - Validating jupyterlab...\n",
      "      jupyterlab 4.2.5 \u001b[32mOK\u001b[0m\n",
      "    notebook \u001b[32menabled\u001b[0m\n",
      "    - Validating notebook...\n",
      "      notebook 7.2.2 \u001b[32mOK\u001b[0m\n",
      "    notebook_shim \u001b[32menabled\u001b[0m\n",
      "    - Validating notebook_shim...\n",
      "      notebook_shim  \u001b[32mOK\u001b[0m\n",
      "    voila.server_extension \u001b[32menabled\u001b[0m\n",
      "    - Validating voila.server_extension...\n",
      "      voila.server_extension  \u001b[32mOK\u001b[0m\n",
      "    voila \u001b[32menabled\u001b[0m\n",
      "    - Validating voila...\n",
      "      voila 0.5.7 \u001b[32mOK\u001b[0m\n",
      "\n",
      "Config dir: /usr/local/etc/jupyter\n",
      "\n"
     ]
    }
   ],
   "source": [
    "!jupyter server extension list\n"
   ]
  },
  {
   "cell_type": "code",
   "execution_count": null,
   "id": "50cae364",
   "metadata": {},
   "outputs": [],
   "source": [
    "\n"
   ]
  },
  {
   "cell_type": "code",
   "execution_count": 5,
   "id": "092c7576",
   "metadata": {},
   "outputs": [],
   "source": [
    "from fastbook import load_learner, Path"
   ]
  },
  {
   "cell_type": "code",
   "execution_count": 6,
   "id": "6b47b100",
   "metadata": {},
   "outputs": [],
   "source": [
    "btn_run = widgets.Button(description='Classify')\n"
   ]
  },
  {
   "cell_type": "code",
   "execution_count": 7,
   "id": "1f792c14",
   "metadata": {},
   "outputs": [],
   "source": [
    "out_pl = widgets.Output()"
   ]
  },
  {
   "cell_type": "code",
   "execution_count": 8,
   "id": "2b9f084d",
   "metadata": {},
   "outputs": [],
   "source": [
    "btn_upload = widgets.FileUpload()"
   ]
  },
  {
   "cell_type": "code",
   "execution_count": 9,
   "id": "f6f90ee0",
   "metadata": {},
   "outputs": [],
   "source": [
    "# btn_upload = SimpleNamespace(data=['yaya.jpg'])"
   ]
  },
  {
   "cell_type": "code",
   "execution_count": 10,
   "id": "0d3ae51f",
   "metadata": {},
   "outputs": [],
   "source": [
    "\n",
    "path = Path()\n",
    "path.ls(file_exts='.pkl')\n",
    "learn_inf = load_learner(path/'export.pkl')"
   ]
  },
  {
   "cell_type": "code",
   "execution_count": 11,
   "id": "c63d47d4",
   "metadata": {},
   "outputs": [],
   "source": [
    "lbl_pred = widgets.Label()"
   ]
  },
  {
   "cell_type": "code",
   "execution_count": 12,
   "id": "a79cc05f",
   "metadata": {},
   "outputs": [],
   "source": [
    "def on_click_classify(change):\n",
    "    img = PILImage.create(btn_upload.data[-1])\n",
    "    out_pl.clear_output()\n",
    "    with out_pl: display(img.to_thumb(128, 128))\n",
    "    pred, pred_idx, probs = learn_inf.predict(img)\n",
    "    lbl_pred.value = f\"Predeicted: {pred}, Probability: {probs[pred_idx]:.4f}\"\n",
    "    \n",
    "btn_run.on_click(on_click_classify)\n",
    "    "
   ]
  },
  {
   "cell_type": "code",
   "execution_count": null,
   "id": "ae9bbabf",
   "metadata": {},
   "outputs": [],
   "source": []
  },
  {
   "cell_type": "code",
   "execution_count": null,
   "id": "23eb504f",
   "metadata": {},
   "outputs": [],
   "source": []
  },
  {
   "cell_type": "code",
   "execution_count": 13,
   "id": "7e381cd2",
   "metadata": {},
   "outputs": [
    {
     "data": {
      "application/vnd.jupyter.widget-view+json": {
       "model_id": "644d1337583c4b1db7d37bcf060987a7",
       "version_major": 2,
       "version_minor": 0
      },
      "text/plain": [
       "VBox(children=(Label(value='Select your cats!'), FileUpload(value={}, description='Upload'), Button(descriptio…"
      ]
     },
     "metadata": {},
     "output_type": "display_data"
    }
   ],
   "source": [
    "VBox([widgets.Label('Select your cats!'), \n",
    "      btn_upload, btn_run, out_pl, lbl_pred])\n",
    "     "
   ]
  },
  {
   "cell_type": "code",
   "execution_count": null,
   "id": "1d12c47d",
   "metadata": {},
   "outputs": [],
   "source": []
  },
  {
   "cell_type": "code",
   "execution_count": null,
   "id": "18662c0b",
   "metadata": {},
   "outputs": [],
   "source": []
  },
  {
   "cell_type": "code",
   "execution_count": null,
   "id": "a60e247c",
   "metadata": {},
   "outputs": [],
   "source": []
  },
  {
   "cell_type": "code",
   "execution_count": null,
   "id": "ca8a5eb3-2e59-472b-830f-6768c500fa95",
   "metadata": {},
   "outputs": [],
   "source": []
  }
 ],
 "metadata": {
  "kernelspec": {
   "display_name": "voila_jupyter",
   "language": "python",
   "name": "voila_jypyter"
  },
  "language_info": {
   "codemirror_mode": {
    "name": "ipython",
    "version": 3
   },
   "file_extension": ".py",
   "mimetype": "text/x-python",
   "name": "python",
   "nbconvert_exporter": "python",
   "pygments_lexer": "ipython3",
   "version": "3.10.14"
  }
 },
 "nbformat": 4,
 "nbformat_minor": 5
}
