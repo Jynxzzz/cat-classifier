{
 "cells": [
  {
   "cell_type": "code",
   "execution_count": 1,
   "id": "6a40564a",
   "metadata": {},
   "outputs": [],
   "source": [
    "import ipywidgets as widgets\n",
    "from ipywidgets import VBox\n",
    "from fastai.vision.all import  PILImage\n",
    "from types import SimpleNamespace\n"
   ]
  },
  {
   "cell_type": "code",
   "execution_count": 2,
   "id": "092c7576",
   "metadata": {},
   "outputs": [],
   "source": [
    "from fastbook import load_learner, Path"
   ]
  },
  {
   "cell_type": "code",
   "execution_count": 3,
   "id": "6b47b100",
   "metadata": {},
   "outputs": [],
   "source": [
    "btn_run = widgets.Button(description='Classify')\n"
   ]
  },
  {
   "cell_type": "code",
   "execution_count": 4,
   "id": "1f792c14",
   "metadata": {},
   "outputs": [],
   "source": [
    "out_pl = widgets.Output()"
   ]
  },
  {
   "cell_type": "code",
   "execution_count": 5,
   "id": "2b9f084d",
   "metadata": {},
   "outputs": [],
   "source": [
    "btn_upload = widgets.FileUpload()"
   ]
  },
  {
   "cell_type": "code",
   "execution_count": 6,
   "id": "f6f90ee0",
   "metadata": {},
   "outputs": [],
   "source": [
    "# btn_upload = SimpleNamespace(data=['yaya.jpg'])"
   ]
  },
  {
   "cell_type": "code",
   "execution_count": 7,
   "id": "0d3ae51f",
   "metadata": {},
   "outputs": [],
   "source": [
    "\n",
    "path = Path()\n",
    "path.ls(file_exts='.pkl')\n",
    "learn_inf = load_learner(path/'export.pkl')"
   ]
  },
  {
   "cell_type": "code",
   "execution_count": 8,
   "id": "c63d47d4",
   "metadata": {},
   "outputs": [],
   "source": [
    "lbl_pred = widgets.Label()"
   ]
  },
  {
   "cell_type": "code",
   "execution_count": 9,
   "id": "a79cc05f",
   "metadata": {},
   "outputs": [],
   "source": [
    "def on_click_classify(change):\n",
    "    img = PILImage.create(btn_upload.data[-1])\n",
    "    out_pl.clear_output()\n",
    "    with out_pl: display(img.to_thumb(128, 128))\n",
    "    pred, pred_idx, probs = learn_inf.predict(img)\n",
    "    lbl_pred.value = f\"Predeicted: {pred}, Probability: {probs[pred_idx]:.4f}\"\n",
    "    \n",
    "btn_run.on_click(on_click_classify)\n",
    "    "
   ]
  },
  {
   "cell_type": "code",
   "execution_count": null,
   "id": "ae9bbabf",
   "metadata": {},
   "outputs": [],
   "source": []
  },
  {
   "cell_type": "code",
   "execution_count": 11,
   "id": "23eb504f",
   "metadata": {},
   "outputs": [],
   "source": [
    "btn_upload = widgets.FileUpload()"
   ]
  },
  {
   "cell_type": "code",
   "execution_count": 12,
   "id": "7e381cd2",
   "metadata": {},
   "outputs": [
    {
     "data": {
      "application/vnd.jupyter.widget-view+json": {
       "model_id": "56dbc36a77564f4684d28d658415849b",
       "version_major": 2,
       "version_minor": 0
      },
      "text/plain": [
       "VBox(children=(Label(value='Select your bear!'), FileUpload(value={}, description='Upload'), Button(descriptio…"
      ]
     },
     "metadata": {},
     "output_type": "display_data"
    },
    {
     "data": {
      "text/html": [
       "\n",
       "<style>\n",
       "    /* Turns off some styling */\n",
       "    progress {\n",
       "        /* gets rid of default border in Firefox and Opera. */\n",
       "        border: none;\n",
       "        /* Needs to be in here for Safari polyfill so background images work as expected. */\n",
       "        background-size: auto;\n",
       "    }\n",
       "    progress:not([value]), progress:not([value])::-webkit-progress-bar {\n",
       "        background: repeating-linear-gradient(45deg, #7e7e7e, #7e7e7e 10px, #5c5c5c 10px, #5c5c5c 20px);\n",
       "    }\n",
       "    .progress-bar-interrupted, .progress-bar-interrupted::-webkit-progress-bar {\n",
       "        background: #F44336;\n",
       "    }\n",
       "</style>\n"
      ],
      "text/plain": [
       "<IPython.core.display.HTML object>"
      ]
     },
     "metadata": {},
     "output_type": "display_data"
    },
    {
     "data": {
      "text/html": [],
      "text/plain": [
       "<IPython.core.display.HTML object>"
      ]
     },
     "metadata": {},
     "output_type": "display_data"
    }
   ],
   "source": [
    "VBox([widgets.Label('Select your bear!'), \n",
    "      btn_upload, btn_run, out_pl, lbl_pred])\n",
    "     "
   ]
  },
  {
   "cell_type": "code",
   "execution_count": 13,
   "id": "1d12c47d",
   "metadata": {},
   "outputs": [
    {
     "name": "stdout",
     "output_type": "stream",
     "text": [
      "Collecting voila\n",
      "  Downloading voila-0.5.7-py3-none-any.whl.metadata (9.1 kB)\n",
      "Requirement already satisfied: jupyter-client<9,>=7.4.4 in /home/xingnan/anaconda3/envs/detection_task/lib/python3.10/site-packages (from voila) (7.4.9)\n",
      "Requirement already satisfied: jupyter-core>=4.11.0 in /home/xingnan/anaconda3/envs/detection_task/lib/python3.10/site-packages (from voila) (5.5.0)\n",
      "Collecting jupyter-server<3,>=2.0.0 (from voila)\n",
      "  Downloading jupyter_server-2.14.2-py3-none-any.whl.metadata (8.4 kB)\n",
      "Requirement already satisfied: jupyterlab-server<3,>=2.3.0 in /home/xingnan/anaconda3/envs/detection_task/lib/python3.10/site-packages (from voila) (2.25.1)\n",
      "Requirement already satisfied: nbclient>=0.4.0 in /home/xingnan/anaconda3/envs/detection_task/lib/python3.10/site-packages (from voila) (0.8.0)\n",
      "Requirement already satisfied: nbconvert<8,>=6.4.5 in /home/xingnan/anaconda3/envs/detection_task/lib/python3.10/site-packages (from voila) (7.10.0)\n",
      "Requirement already satisfied: traitlets<6,>=5.0.3 in /home/xingnan/anaconda3/envs/detection_task/lib/python3.10/site-packages (from voila) (5.14.3)\n",
      "Collecting websockets>=9.0 (from voila)\n",
      "  Downloading websockets-13.1-cp310-cp310-manylinux_2_5_x86_64.manylinux1_x86_64.manylinux_2_17_x86_64.manylinux2014_x86_64.whl.metadata (6.8 kB)\n",
      "Requirement already satisfied: entrypoints in /home/xingnan/anaconda3/envs/detection_task/lib/python3.10/site-packages (from jupyter-client<9,>=7.4.4->voila) (0.4)\n",
      "Requirement already satisfied: nest-asyncio>=1.5.4 in /home/xingnan/anaconda3/envs/detection_task/lib/python3.10/site-packages (from jupyter-client<9,>=7.4.4->voila) (1.5.6)\n",
      "Requirement already satisfied: python-dateutil>=2.8.2 in /home/xingnan/anaconda3/envs/detection_task/lib/python3.10/site-packages (from jupyter-client<9,>=7.4.4->voila) (2.8.2)\n",
      "Requirement already satisfied: pyzmq>=23.0 in /home/xingnan/anaconda3/envs/detection_task/lib/python3.10/site-packages (from jupyter-client<9,>=7.4.4->voila) (23.2.0)\n",
      "Requirement already satisfied: tornado>=6.2 in /home/xingnan/anaconda3/envs/detection_task/lib/python3.10/site-packages (from jupyter-client<9,>=7.4.4->voila) (6.3.3)\n",
      "Requirement already satisfied: platformdirs>=2.5 in /home/xingnan/anaconda3/envs/detection_task/lib/python3.10/site-packages (from jupyter-core>=4.11.0->voila) (3.10.0)\n",
      "Requirement already satisfied: anyio>=3.1.0 in /home/xingnan/anaconda3/envs/detection_task/lib/python3.10/site-packages (from jupyter-server<3,>=2.0.0->voila) (3.5.0)\n",
      "Requirement already satisfied: argon2-cffi>=21.1 in /home/xingnan/anaconda3/envs/detection_task/lib/python3.10/site-packages (from jupyter-server<3,>=2.0.0->voila) (21.3.0)\n",
      "Requirement already satisfied: jinja2>=3.0.3 in /home/xingnan/anaconda3/envs/detection_task/lib/python3.10/site-packages (from jupyter-server<3,>=2.0.0->voila) (3.1.3)\n",
      "Collecting jupyter-events>=0.9.0 (from jupyter-server<3,>=2.0.0->voila)\n",
      "  Downloading jupyter_events-0.10.0-py3-none-any.whl.metadata (5.9 kB)\n",
      "Collecting jupyter-server-terminals>=0.4.4 (from jupyter-server<3,>=2.0.0->voila)\n",
      "  Downloading jupyter_server_terminals-0.5.3-py3-none-any.whl.metadata (5.6 kB)\n",
      "Requirement already satisfied: nbformat>=5.3.0 in /home/xingnan/anaconda3/envs/detection_task/lib/python3.10/site-packages (from jupyter-server<3,>=2.0.0->voila) (5.9.2)\n",
      "Collecting overrides>=5.0 (from jupyter-server<3,>=2.0.0->voila)\n",
      "  Using cached overrides-7.7.0-py3-none-any.whl.metadata (5.8 kB)\n",
      "Requirement already satisfied: packaging>=22.0 in /home/xingnan/anaconda3/envs/detection_task/lib/python3.10/site-packages (from jupyter-server<3,>=2.0.0->voila) (23.1)\n",
      "Requirement already satisfied: prometheus-client>=0.9 in /home/xingnan/anaconda3/envs/detection_task/lib/python3.10/site-packages (from jupyter-server<3,>=2.0.0->voila) (0.14.1)\n",
      "Collecting pyzmq>=23.0 (from jupyter-client<9,>=7.4.4->voila)\n",
      "  Downloading pyzmq-26.2.0-cp310-cp310-manylinux_2_28_x86_64.whl.metadata (6.2 kB)\n",
      "Requirement already satisfied: send2trash>=1.8.2 in /home/xingnan/anaconda3/envs/detection_task/lib/python3.10/site-packages (from jupyter-server<3,>=2.0.0->voila) (1.8.2)\n",
      "Requirement already satisfied: terminado>=0.8.3 in /home/xingnan/anaconda3/envs/detection_task/lib/python3.10/site-packages (from jupyter-server<3,>=2.0.0->voila) (0.17.1)\n",
      "Collecting websocket-client>=1.7 (from jupyter-server<3,>=2.0.0->voila)\n",
      "  Downloading websocket_client-1.8.0-py3-none-any.whl.metadata (8.0 kB)\n",
      "Requirement already satisfied: babel>=2.10 in /home/xingnan/anaconda3/envs/detection_task/lib/python3.10/site-packages (from jupyterlab-server<3,>=2.3.0->voila) (2.11.0)\n",
      "Requirement already satisfied: json5>=0.9.0 in /home/xingnan/anaconda3/envs/detection_task/lib/python3.10/site-packages (from jupyterlab-server<3,>=2.3.0->voila) (0.9.6)\n",
      "Requirement already satisfied: jsonschema>=4.18.0 in /home/xingnan/anaconda3/envs/detection_task/lib/python3.10/site-packages (from jupyterlab-server<3,>=2.3.0->voila) (4.19.2)\n",
      "Requirement already satisfied: requests>=2.31 in /home/xingnan/anaconda3/envs/detection_task/lib/python3.10/site-packages (from jupyterlab-server<3,>=2.3.0->voila) (2.32.3)\n",
      "Requirement already satisfied: beautifulsoup4 in /home/xingnan/anaconda3/envs/detection_task/lib/python3.10/site-packages (from nbconvert<8,>=6.4.5->voila) (4.12.2)\n",
      "Requirement already satisfied: bleach!=5.0.0 in /home/xingnan/anaconda3/envs/detection_task/lib/python3.10/site-packages (from nbconvert<8,>=6.4.5->voila) (4.1.0)\n",
      "Requirement already satisfied: defusedxml in /home/xingnan/anaconda3/envs/detection_task/lib/python3.10/site-packages (from nbconvert<8,>=6.4.5->voila) (0.7.1)\n",
      "Requirement already satisfied: jupyterlab-pygments in /home/xingnan/anaconda3/envs/detection_task/lib/python3.10/site-packages (from nbconvert<8,>=6.4.5->voila) (0.2.2)\n",
      "Requirement already satisfied: markupsafe>=2.0 in /home/xingnan/anaconda3/envs/detection_task/lib/python3.10/site-packages (from nbconvert<8,>=6.4.5->voila) (2.1.3)\n",
      "Requirement already satisfied: mistune<4,>=2.0.3 in /home/xingnan/anaconda3/envs/detection_task/lib/python3.10/site-packages (from nbconvert<8,>=6.4.5->voila) (2.0.4)\n",
      "Requirement already satisfied: pandocfilters>=1.4.1 in /home/xingnan/anaconda3/envs/detection_task/lib/python3.10/site-packages (from nbconvert<8,>=6.4.5->voila) (1.5.0)\n",
      "Requirement already satisfied: pygments>=2.4.1 in /home/xingnan/anaconda3/envs/detection_task/lib/python3.10/site-packages (from nbconvert<8,>=6.4.5->voila) (2.15.1)\n",
      "Requirement already satisfied: tinycss2 in /home/xingnan/anaconda3/envs/detection_task/lib/python3.10/site-packages (from nbconvert<8,>=6.4.5->voila) (1.2.1)\n",
      "Requirement already satisfied: idna>=2.8 in /home/xingnan/anaconda3/envs/detection_task/lib/python3.10/site-packages (from anyio>=3.1.0->jupyter-server<3,>=2.0.0->voila) (3.4)\n",
      "Requirement already satisfied: sniffio>=1.1 in /home/xingnan/anaconda3/envs/detection_task/lib/python3.10/site-packages (from anyio>=3.1.0->jupyter-server<3,>=2.0.0->voila) (1.3.0)\n",
      "Requirement already satisfied: argon2-cffi-bindings in /home/xingnan/anaconda3/envs/detection_task/lib/python3.10/site-packages (from argon2-cffi>=21.1->jupyter-server<3,>=2.0.0->voila) (21.2.0)\n",
      "Requirement already satisfied: pytz>=2015.7 in /home/xingnan/anaconda3/envs/detection_task/lib/python3.10/site-packages (from babel>=2.10->jupyterlab-server<3,>=2.3.0->voila) (2023.3.post1)\n",
      "Requirement already satisfied: six>=1.9.0 in /home/xingnan/anaconda3/envs/detection_task/lib/python3.10/site-packages (from bleach!=5.0.0->nbconvert<8,>=6.4.5->voila) (1.16.0)\n",
      "Requirement already satisfied: webencodings in /home/xingnan/anaconda3/envs/detection_task/lib/python3.10/site-packages (from bleach!=5.0.0->nbconvert<8,>=6.4.5->voila) (0.5.1)\n",
      "Requirement already satisfied: attrs>=22.2.0 in /home/xingnan/anaconda3/envs/detection_task/lib/python3.10/site-packages (from jsonschema>=4.18.0->jupyterlab-server<3,>=2.3.0->voila) (23.1.0)\n",
      "Requirement already satisfied: jsonschema-specifications>=2023.03.6 in /home/xingnan/anaconda3/envs/detection_task/lib/python3.10/site-packages (from jsonschema>=4.18.0->jupyterlab-server<3,>=2.3.0->voila) (2023.7.1)\n",
      "Requirement already satisfied: referencing>=0.28.4 in /home/xingnan/anaconda3/envs/detection_task/lib/python3.10/site-packages (from jsonschema>=4.18.0->jupyterlab-server<3,>=2.3.0->voila) (0.30.2)\n",
      "Requirement already satisfied: rpds-py>=0.7.1 in /home/xingnan/anaconda3/envs/detection_task/lib/python3.10/site-packages (from jsonschema>=4.18.0->jupyterlab-server<3,>=2.3.0->voila) (0.10.6)\n",
      "Requirement already satisfied: python-json-logger>=2.0.4 in /home/xingnan/anaconda3/envs/detection_task/lib/python3.10/site-packages (from jupyter-events>=0.9.0->jupyter-server<3,>=2.0.0->voila) (2.0.7)\n",
      "Requirement already satisfied: pyyaml>=5.3 in /home/xingnan/anaconda3/envs/detection_task/lib/python3.10/site-packages (from jupyter-events>=0.9.0->jupyter-server<3,>=2.0.0->voila) (6.0.1)\n",
      "Requirement already satisfied: rfc3339-validator in /home/xingnan/anaconda3/envs/detection_task/lib/python3.10/site-packages (from jupyter-events>=0.9.0->jupyter-server<3,>=2.0.0->voila) (0.1.4)\n",
      "Requirement already satisfied: rfc3986-validator>=0.1.1 in /home/xingnan/anaconda3/envs/detection_task/lib/python3.10/site-packages (from jupyter-events>=0.9.0->jupyter-server<3,>=2.0.0->voila) (0.1.1)\n",
      "Requirement already satisfied: fastjsonschema in /home/xingnan/anaconda3/envs/detection_task/lib/python3.10/site-packages (from nbformat>=5.3.0->jupyter-server<3,>=2.0.0->voila) (2.16.2)\n"
     ]
    },
    {
     "name": "stdout",
     "output_type": "stream",
     "text": [
      "Requirement already satisfied: charset-normalizer<4,>=2 in /home/xingnan/anaconda3/envs/detection_task/lib/python3.10/site-packages (from requests>=2.31->jupyterlab-server<3,>=2.3.0->voila) (3.3.2)\n",
      "Requirement already satisfied: urllib3<3,>=1.21.1 in /home/xingnan/anaconda3/envs/detection_task/lib/python3.10/site-packages (from requests>=2.31->jupyterlab-server<3,>=2.3.0->voila) (2.2.2)\n",
      "Requirement already satisfied: certifi>=2017.4.17 in /home/xingnan/anaconda3/envs/detection_task/lib/python3.10/site-packages (from requests>=2.31->jupyterlab-server<3,>=2.3.0->voila) (2024.7.4)\n",
      "Requirement already satisfied: ptyprocess in /home/xingnan/anaconda3/envs/detection_task/lib/python3.10/site-packages (from terminado>=0.8.3->jupyter-server<3,>=2.0.0->voila) (0.7.0)\n",
      "Requirement already satisfied: soupsieve>1.2 in /home/xingnan/anaconda3/envs/detection_task/lib/python3.10/site-packages (from beautifulsoup4->nbconvert<8,>=6.4.5->voila) (2.5)\n",
      "Collecting fqdn (from jsonschema[format-nongpl]>=4.18.0->jupyter-events>=0.9.0->jupyter-server<3,>=2.0.0->voila)\n",
      "  Downloading fqdn-1.5.1-py3-none-any.whl.metadata (1.4 kB)\n",
      "Collecting isoduration (from jsonschema[format-nongpl]>=4.18.0->jupyter-events>=0.9.0->jupyter-server<3,>=2.0.0->voila)\n",
      "  Downloading isoduration-20.11.0-py3-none-any.whl.metadata (5.7 kB)\n",
      "Collecting jsonpointer>1.13 (from jsonschema[format-nongpl]>=4.18.0->jupyter-events>=0.9.0->jupyter-server<3,>=2.0.0->voila)\n",
      "  Downloading jsonpointer-3.0.0-py2.py3-none-any.whl.metadata (2.3 kB)\n",
      "Collecting uri-template (from jsonschema[format-nongpl]>=4.18.0->jupyter-events>=0.9.0->jupyter-server<3,>=2.0.0->voila)\n",
      "  Using cached uri_template-1.3.0-py3-none-any.whl.metadata (8.8 kB)\n",
      "Collecting webcolors>=1.11 (from jsonschema[format-nongpl]>=4.18.0->jupyter-events>=0.9.0->jupyter-server<3,>=2.0.0->voila)\n",
      "  Downloading webcolors-24.8.0-py3-none-any.whl.metadata (2.6 kB)\n",
      "Requirement already satisfied: cffi>=1.0.1 in /home/xingnan/anaconda3/envs/detection_task/lib/python3.10/site-packages (from argon2-cffi-bindings->argon2-cffi>=21.1->jupyter-server<3,>=2.0.0->voila) (1.16.0)\n",
      "Requirement already satisfied: pycparser in /home/xingnan/anaconda3/envs/detection_task/lib/python3.10/site-packages (from cffi>=1.0.1->argon2-cffi-bindings->argon2-cffi>=21.1->jupyter-server<3,>=2.0.0->voila) (2.21)\n",
      "Collecting arrow>=0.15.0 (from isoduration->jsonschema[format-nongpl]>=4.18.0->jupyter-events>=0.9.0->jupyter-server<3,>=2.0.0->voila)\n",
      "  Using cached arrow-1.3.0-py3-none-any.whl.metadata (7.5 kB)\n",
      "Collecting types-python-dateutil>=2.8.10 (from arrow>=0.15.0->isoduration->jsonschema[format-nongpl]>=4.18.0->jupyter-events>=0.9.0->jupyter-server<3,>=2.0.0->voila)\n",
      "  Downloading types_python_dateutil-2.9.0.20240906-py3-none-any.whl.metadata (1.9 kB)\n",
      "Downloading voila-0.5.7-py3-none-any.whl (3.9 MB)\n",
      "\u001b[2K   \u001b[90m━━━━━━━━━━━━━━━━━━━━━━━━━━━━━━━━━━━━━━━━\u001b[0m \u001b[32m3.9/3.9 MB\u001b[0m \u001b[31m5.8 MB/s\u001b[0m eta \u001b[36m0:00:00\u001b[0m00:01\u001b[0m00:01\u001b[0m\n",
      "\u001b[?25hDownloading jupyter_server-2.14.2-py3-none-any.whl (383 kB)\n",
      "\u001b[2K   \u001b[90m━━━━━━━━━━━━━━━━━━━━━━━━━━━━━━━━━━━━━━━━\u001b[0m \u001b[32m383.6/383.6 kB\u001b[0m \u001b[31m7.9 MB/s\u001b[0m eta \u001b[36m0:00:00\u001b[0ma \u001b[36m0:00:01\u001b[0m\n",
      "\u001b[?25hDownloading websockets-13.1-cp310-cp310-manylinux_2_5_x86_64.manylinux1_x86_64.manylinux_2_17_x86_64.manylinux2014_x86_64.whl (164 kB)\n",
      "\u001b[2K   \u001b[90m━━━━━━━━━━━━━━━━━━━━━━━━━━━━━━━━━━━━━━━━\u001b[0m \u001b[32m164.1/164.1 kB\u001b[0m \u001b[31m6.7 MB/s\u001b[0m eta \u001b[36m0:00:00\u001b[0m\n",
      "\u001b[?25hDownloading jupyter_events-0.10.0-py3-none-any.whl (18 kB)\n",
      "Downloading jupyter_server_terminals-0.5.3-py3-none-any.whl (13 kB)\n",
      "Using cached overrides-7.7.0-py3-none-any.whl (17 kB)\n",
      "Downloading pyzmq-26.2.0-cp310-cp310-manylinux_2_28_x86_64.whl (868 kB)\n",
      "\u001b[2K   \u001b[90m━━━━━━━━━━━━━━━━━━━━━━━━━━━━━━━━━━━━━━━━\u001b[0m \u001b[32m868.8/868.8 kB\u001b[0m \u001b[31m7.5 MB/s\u001b[0m eta \u001b[36m0:00:00\u001b[0m00:01\u001b[0m00:01\u001b[0m\n",
      "\u001b[?25hDownloading websocket_client-1.8.0-py3-none-any.whl (58 kB)\n",
      "\u001b[2K   \u001b[90m━━━━━━━━━━━━━━━━━━━━━━━━━━━━━━━━━━━━━━━━\u001b[0m \u001b[32m58.8/58.8 kB\u001b[0m \u001b[31m6.2 MB/s\u001b[0m eta \u001b[36m0:00:00\u001b[0m\n",
      "\u001b[?25hDownloading jsonpointer-3.0.0-py2.py3-none-any.whl (7.6 kB)\n",
      "Downloading webcolors-24.8.0-py3-none-any.whl (15 kB)\n",
      "Using cached fqdn-1.5.1-py3-none-any.whl (9.1 kB)\n",
      "Using cached isoduration-20.11.0-py3-none-any.whl (11 kB)\n",
      "Using cached uri_template-1.3.0-py3-none-any.whl (11 kB)\n",
      "Using cached arrow-1.3.0-py3-none-any.whl (66 kB)\n",
      "Downloading types_python_dateutil-2.9.0.20240906-py3-none-any.whl (9.7 kB)\n",
      "Installing collected packages: websockets, websocket-client, webcolors, uri-template, types-python-dateutil, pyzmq, overrides, jsonpointer, fqdn, jupyter-server-terminals, arrow, isoduration, jupyter-events, jupyter-server, voila\n",
      "  Attempting uninstall: websocket-client\n",
      "    Found existing installation: websocket-client 0.58.0\n",
      "    Uninstalling websocket-client-0.58.0:\n",
      "      Successfully uninstalled websocket-client-0.58.0\n",
      "  Attempting uninstall: pyzmq\n",
      "    Found existing installation: pyzmq 23.2.0\n",
      "    Uninstalling pyzmq-23.2.0:\n",
      "      Successfully uninstalled pyzmq-23.2.0\n",
      "  Attempting uninstall: jupyter-events\n",
      "    Found existing installation: jupyter-events 0.8.0\n",
      "    Uninstalling jupyter-events-0.8.0:\n",
      "      Successfully uninstalled jupyter-events-0.8.0\n",
      "  Attempting uninstall: jupyter-server\n",
      "    Found existing installation: jupyter-server 1.23.4\n",
      "    Uninstalling jupyter-server-1.23.4:\n",
      "      Successfully uninstalled jupyter-server-1.23.4\n",
      "\u001b[31mERROR: pip's dependency resolver does not currently take into account all the packages that are installed. This behaviour is the source of the following dependency conflicts.\n",
      "notebook 6.5.6 requires pyzmq<25,>=17, but you have pyzmq 26.2.0 which is incompatible.\u001b[0m\u001b[31m\n",
      "\u001b[0mSuccessfully installed arrow-1.3.0 fqdn-1.5.1 isoduration-20.11.0 jsonpointer-3.0.0 jupyter-events-0.10.0 jupyter-server-2.14.2 jupyter-server-terminals-0.5.3 overrides-7.7.0 pyzmq-26.2.0 types-python-dateutil-2.9.0.20240906 uri-template-1.3.0 voila-0.5.7 webcolors-24.8.0 websocket-client-1.8.0 websockets-13.1\n"
     ]
    }
   ],
   "source": [
    "!pip install voila"
   ]
  },
  {
   "cell_type": "code",
   "execution_count": 14,
   "id": "18662c0b",
   "metadata": {},
   "outputs": [
    {
     "name": "stdout",
     "output_type": "stream",
     "text": [
      "Enabling: voila\n",
      "- Writing config: /home/xingnan/anaconda3/envs/detection_task/etc/jupyter\n",
      "    - Validating...\n",
      "      voila 0.5.7 \u001b[32mOK\u001b[0m\n"
     ]
    }
   ],
   "source": [
    "!jupyter serverextension enable --sys-prefix voila"
   ]
  },
  {
   "cell_type": "code",
   "execution_count": null,
   "id": "a60e247c",
   "metadata": {},
   "outputs": [],
   "source": []
  }
 ],
 "metadata": {
  "kernelspec": {
   "display_name": "detection-task",
   "language": "python",
   "name": "detection_task"
  },
  "language_info": {
   "codemirror_mode": {
    "name": "ipython",
    "version": 3
   },
   "file_extension": ".py",
   "mimetype": "text/x-python",
   "name": "python",
   "nbconvert_exporter": "python",
   "pygments_lexer": "ipython3",
   "version": "3.10.13"
  }
 },
 "nbformat": 4,
 "nbformat_minor": 5
}
